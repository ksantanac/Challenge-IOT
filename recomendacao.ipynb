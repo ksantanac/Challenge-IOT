{
 "cells": [
  {
   "cell_type": "markdown",
   "metadata": {},
   "source": [
    "## Recomendação de Produtos com KNN"
   ]
  },
  {
   "cell_type": "markdown",
   "metadata": {},
   "source": [
    "### Bibliotecas utilizadas"
   ]
  },
  {
   "cell_type": "code",
   "execution_count": 1,
   "metadata": {},
   "outputs": [],
   "source": [
    "import pandas as pd\n",
    "import tkinter as tk\n",
    "from sklearn.neighbors import NearestNeighbors\n",
    "import numpy as np"
   ]
  },
  {
   "cell_type": "markdown",
   "metadata": {},
   "source": [
    "### Base de dados"
   ]
  },
  {
   "cell_type": "code",
   "execution_count": 2,
   "metadata": {},
   "outputs": [],
   "source": [
    "# Carregando o CSV gerado em um DataFrame\n",
    "df = pd.read_csv('produtos_expandidos.csv')\n"
   ]
  },
  {
   "cell_type": "markdown",
   "metadata": {},
   "source": [
    "### Normalizar dados numéricos"
   ]
  },
  {
   "cell_type": "code",
   "execution_count": 3,
   "metadata": {},
   "outputs": [],
   "source": [
    "# Função para normalizar os dados numéricos\n",
    "def normalizar(x):\n",
    "    return (x - np.min(x)) / (np.max(x) - np.min(x))\n",
    "\n",
    "# Aplicar a normalização aos dados\n",
    "df[['Preço', 'Avaliação']] = df[['Preço', 'Avaliação']].apply(normalizar)"
   ]
  },
  {
   "cell_type": "markdown",
   "metadata": {},
   "source": [
    "### Função para recomendação"
   ]
  },
  {
   "cell_type": "code",
   "execution_count": 4,
   "metadata": {},
   "outputs": [],
   "source": [
    "# Função para encontrar um produto mais similar, considerando múltiplas características\n",
    "def encontrar_produto_similar(produto):\n",
    "    # Verificar se o produto existe no DataFrame\n",
    "    if produto not in df['Produto'].values:\n",
    "        return [\"Produto não encontrado\"]\n",
    "\n",
    "    # Filtrar o DataFrame para produtos da mesma categoria\n",
    "    categoria_produto = df.loc[df['Produto'] == produto, 'Categoria'].values[0]\n",
    "    produtos_categoria = df[df['Categoria'] == categoria_produto].copy()\n",
    "\n",
    "    # Resetar os índices após o filtro\n",
    "    produtos_categoria.reset_index(drop=True, inplace=True)\n",
    "\n",
    "    # Obtendo os vetores de características dos produtos\n",
    "    vetor_caracteristicas = pd.get_dummies(produtos_categoria[['Categoria']])\n",
    "    vetor_caracteristicas['Preço'] = produtos_categoria['Preço']\n",
    "    vetor_caracteristicas['Avaliação'] = produtos_categoria['Avaliação']\n",
    "\n",
    "    # Ponderando as características\n",
    "    vetor_caracteristicas['Categoria_' + categoria_produto] *= 1.1  # Duplica o peso da categoria do produto\n",
    "\n",
    "    # Convertendo para valores\n",
    "    vetor_caracteristicas = vetor_caracteristicas.values\n",
    "\n",
    "    # Treinando o modelo KNN\n",
    "    knn_model = NearestNeighbors(n_neighbors=4, algorithm='brute', metric='manhattan')  # n_neighbors = 4 para incluir até 3 produtos similares\n",
    "    knn_model.fit(vetor_caracteristicas)\n",
    "\n",
    "    # Encontrando o índice do produto no DataFrame filtrado\n",
    "    produto_index = produtos_categoria.index[produtos_categoria['Produto'] == produto].tolist()[0]\n",
    "\n",
    "    # Encontrando os vizinhos mais próximos\n",
    "    _, indices = knn_model.kneighbors([vetor_caracteristicas[produto_index]])\n",
    "\n",
    "    # Extraindo os produtos similares (excluindo o próprio produto)\n",
    "    produtos_similares = [produtos_categoria.iloc[i]['Produto'] for i in indices.flatten() if produtos_categoria.iloc[i]['Produto'] != produto]\n",
    "\n",
    "    return produtos_similares[:3]  # Retorna apenas 3 produtos similares\n"
   ]
  },
  {
   "cell_type": "markdown",
   "metadata": {},
   "source": [
    "### Interface Gráfica"
   ]
  },
  {
   "cell_type": "code",
   "execution_count": 5,
   "metadata": {},
   "outputs": [],
   "source": [
    "# Criando a interface gráfica\n",
    "def recomendar_produto():\n",
    "    produto_comprado = entry_produto.get()\n",
    "    produtos_recomendados = encontrar_produto_similar(produto_comprado)\n",
    "    label_resultado.config(text=f\"Produtos similares ao '{produto_comprado}': {', '.join(produtos_recomendados)}\")\n",
    "\n",
    "# Configurações da janela\n",
    "root = tk.Tk()\n",
    "root.title(\"Sistema de Recomendação de Produtos Eletrônicos\")\n",
    "root.geometry(\"400x200\")\n",
    "\n",
    "# Elementos da interface\n",
    "label_produto = tk.Label(root, text=\"Produto Comprado:\")\n",
    "label_produto.pack(pady=5)\n",
    "\n",
    "entry_produto = tk.Entry(root, width=30)\n",
    "entry_produto.pack(pady=5)\n",
    "\n",
    "button_recomendar = tk.Button(root, text=\"Recomendar\", command=recomendar_produto)\n",
    "button_recomendar.pack(pady=5)\n",
    "\n",
    "label_resultado = tk.Label(root, text=\"\")\n",
    "label_resultado.pack(pady=5)\n",
    "\n",
    "# Rodar a interface\n",
    "root.mainloop()\n"
   ]
  },
  {
   "cell_type": "code",
   "execution_count": null,
   "metadata": {},
   "outputs": [],
   "source": []
  },
  {
   "cell_type": "markdown",
   "metadata": {},
   "source": [
    "### Código completo"
   ]
  },
  {
   "cell_type": "code",
   "execution_count": 11,
   "metadata": {},
   "outputs": [],
   "source": [
    "import pandas as pd\n",
    "import tkinter as tk\n",
    "from sklearn.neighbors import NearestNeighbors\n",
    "import numpy as np\n",
    "\n",
    "# Carregando o CSV gerado em um DataFrame\n",
    "df = pd.read_excel('produtos.xlsx')\n",
    "\n",
    "# Função para normalizar os dados numéricos\n",
    "def normalizar(x):\n",
    "    return (x - np.min(x)) / (np.max(x) - np.min(x))\n",
    "\n",
    "# Aplicar a normalização aos dados\n",
    "df[['Preço', 'Avaliação']] = df[['Preço', 'Avaliação']].apply(normalizar)\n",
    "\n",
    "# Função para encontrar um produto mais similar, considerando múltiplas características\n",
    "def encontrar_produto_similar(produto):\n",
    "    # Verificar se o produto existe no DataFrame\n",
    "    if produto not in df['Produto'].values:\n",
    "        return [\"Produto não encontrado\"]\n",
    "\n",
    "    # Filtrar o DataFrame para produtos da mesma categoria\n",
    "    categoria_produto = df.loc[df['Produto'] == produto, 'Categoria'].values[0]\n",
    "    produtos_categoria = df[df['Categoria'] == categoria_produto].copy()\n",
    "\n",
    "    # Resetar os índices após o filtro\n",
    "    produtos_categoria.reset_index(drop=True, inplace=True)\n",
    "\n",
    "    # Obtendo os vetores de características dos produtos\n",
    "    vetor_caracteristicas = pd.get_dummies(produtos_categoria[['Categoria']])\n",
    "    vetor_caracteristicas['Preço'] = produtos_categoria['Preço']\n",
    "    vetor_caracteristicas['Avaliação'] = produtos_categoria['Avaliação']\n",
    "\n",
    "    # Ponderando as características\n",
    "    vetor_caracteristicas['Categoria_' + categoria_produto] *= 2  # Duplica o peso da categoria do produto\n",
    "\n",
    "    # Convertendo para valores\n",
    "    vetor_caracteristicas = vetor_caracteristicas.values\n",
    "\n",
    "    # Treinando o modelo KNN\n",
    "    knn_model = NearestNeighbors(n_neighbors=4, algorithm='brute', metric='manhattan')  # n_neighbors = 4 para incluir até 3 produtos similares\n",
    "    knn_model.fit(vetor_caracteristicas)\n",
    "\n",
    "    # Encontrando o índice do produto no DataFrame filtrado\n",
    "    produto_index = produtos_categoria.index[produtos_categoria['Produto'] == produto].tolist()[0]\n",
    "\n",
    "    # Encontrando os vizinhos mais próximos\n",
    "    _, indices = knn_model.kneighbors([vetor_caracteristicas[produto_index]])\n",
    "\n",
    "    # Extraindo os produtos similares (excluindo o próprio produto)\n",
    "    produtos_similares = [produtos_categoria.iloc[i]['Produto'] for i in indices.flatten() if produtos_categoria.iloc[i]['Produto'] != produto]\n",
    "\n",
    "    return produtos_similares[:3]  # Retorna apenas 3 produtos similares\n",
    "\n",
    "# Criando a interface gráfica\n",
    "def recomendar_produto():\n",
    "    produto_comprado = entry_produto.get()\n",
    "    produtos_recomendados = encontrar_produto_similar(produto_comprado)\n",
    "    label_resultado.config(text=f\"Produtos similares ao '{produto_comprado}': {', '.join(produtos_recomendados)}\")\n",
    "\n",
    "# Configurações da janela\n",
    "root = tk.Tk()\n",
    "root.title(\"Sistema de Recomendação de Produtos Eletrônicos\")\n",
    "root.geometry(\"400x200\")\n",
    "\n",
    "# Elementos da interface\n",
    "label_produto = tk.Label(root, text=\"Produto Comprado:\")\n",
    "label_produto.pack(pady=5)\n",
    "\n",
    "entry_produto = tk.Entry(root, width=30)\n",
    "entry_produto.pack(pady=5)\n",
    "\n",
    "button_recomendar = tk.Button(root, text=\"Recomendar\", command=recomendar_produto)\n",
    "button_recomendar.pack(pady=5)\n",
    "\n",
    "label_resultado = tk.Label(root, text=\"\")\n",
    "label_resultado.pack(pady=5)\n",
    "\n",
    "# Rodar a interface\n",
    "root.mainloop()\n"
   ]
  }
 ],
 "metadata": {
  "kernelspec": {
   "display_name": "base",
   "language": "python",
   "name": "python3"
  },
  "language_info": {
   "codemirror_mode": {
    "name": "ipython",
    "version": 3
   },
   "file_extension": ".py",
   "mimetype": "text/x-python",
   "name": "python",
   "nbconvert_exporter": "python",
   "pygments_lexer": "ipython3",
   "version": "3.11.7"
  }
 },
 "nbformat": 4,
 "nbformat_minor": 2
}
