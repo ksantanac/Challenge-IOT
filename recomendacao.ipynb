{
 "cells": [
  {
   "cell_type": "markdown",
   "metadata": {},
   "source": [
    "## Recomendação de Produtos com KNN"
   ]
  },
  {
   "cell_type": "markdown",
   "metadata": {},
   "source": [
    "### Bibliotecas utilizadas"
   ]
  },
  {
   "cell_type": "code",
   "execution_count": 6,
   "metadata": {},
   "outputs": [],
   "source": [
    "import pandas as pd\n",
    "import tkinter as tk\n",
    "from sklearn.neighbors import NearestNeighbors\n",
    "import numpy as np"
   ]
  },
  {
   "cell_type": "markdown",
   "metadata": {},
   "source": [
    "### Base de dados"
   ]
  },
  {
   "cell_type": "code",
   "execution_count": 7,
   "metadata": {},
   "outputs": [],
   "source": [
    "# Criando a nova base de dados fictícia com produtos eletrônicos e características adicionais\n",
    "data = {\n",
    "    'Produto': ['Smartphone', 'Notebook', 'Smartwatch', 'Tablet', 'Fones de Ouvido', 'Câmera', 'Carregador Portátil', 'Mouse', 'Teclado',\n",
    "                'Monitor', 'Impressora', 'Roteador', 'Caixa de Som', 'Headset', 'Webcam'],\n",
    "    'Categoria': ['Celulares', 'Computadores', 'Acessórios', 'Tablets', 'Acessórios', 'Câmeras', 'Acessórios', 'Acessórios', 'Acessórios',\n",
    "                  'Monitores', 'Impressoras', 'Redes', 'Acessórios', 'Acessórios', 'Câmeras'],\n",
    "    'Marca': ['Samsung', 'Dell', 'Apple', 'Samsung', 'Sony', 'Canon', 'Xiaomi', 'Logitech', 'Logitech',\n",
    "              'LG', 'HP', 'TP-Link', 'JBL', 'Sony', 'Logitech'],\n",
    "    'Preço': [1500, 3000, 400, 800, 100, 1200, 50, 20, 15, 500, 200, 80, 150, 50, 100],\n",
    "    'Avaliação': [4.5, 4.8, 4.0, 4.2, 4.6, 4.7, 4.1, 4.3, 4.4, 4.5, 4.2, 4.6, 4.8, 4.3, 4.0]\n",
    "}\n",
    "\n",
    "df = pd.DataFrame(data)\n"
   ]
  },
  {
   "cell_type": "markdown",
   "metadata": {},
   "source": [
    "### Normalizar dados numéricos"
   ]
  },
  {
   "cell_type": "code",
   "execution_count": 8,
   "metadata": {},
   "outputs": [],
   "source": [
    "# Função para normalizar os dados numéricos\n",
    "def normalizar(x):\n",
    "    return (x - np.min(x)) / (np.max(x) - np.min(x))\n",
    "\n",
    "# Aplicar a normalização aos dados\n",
    "df[['Preço', 'Avaliação']] = df[['Preço', 'Avaliação']].apply(normalizar)"
   ]
  },
  {
   "cell_type": "markdown",
   "metadata": {},
   "source": [
    "### Função para recomendação"
   ]
  },
  {
   "cell_type": "code",
   "execution_count": 9,
   "metadata": {},
   "outputs": [],
   "source": [
    "# Função para encontrar um produto mais similar, considerando múltiplas características\n",
    "def encontrar_produto_similar(produto):\n",
    "    # Obtendo a categoria do produto\n",
    "    categoria_produto = df.loc[df['Produto'] == produto, 'Categoria'].values[0]\n",
    "    \n",
    "    # Filtrando a base de dados para conter todos os produtos\n",
    "    produtos_categoria = df['Produto'].unique()\n",
    "    \n",
    "    # Obtendo os vetores de características dos produtos\n",
    "    vetor_caracteristicas = pd.get_dummies(df[['Produto', 'Categoria']])\n",
    "    \n",
    "    # Adicionando os preços e avaliações de cada produto\n",
    "    vetor_caracteristicas['Preço'] = df['Preço']\n",
    "    vetor_caracteristicas['Avaliação'] = df['Avaliação']\n",
    "    \n",
    "    # Ponderando as características\n",
    "    vetor_caracteristicas['Categoria_' + categoria_produto] *= 2  # Duplica o peso da categoria do produto\n",
    "    \n",
    "    vetor_caracteristicas = vetor_caracteristicas.values\n",
    "    \n",
    "    # Treinando o modelo KNN\n",
    "    knn_model = NearestNeighbors(n_neighbors=3, algorithm='brute', metric='manhattan')\n",
    "    knn_model.fit(vetor_caracteristicas)\n",
    "    \n",
    "    # Encontrando os vizinhos mais próximos\n",
    "    produto_index = list(produtos_categoria).index(produto)\n",
    "    _, indices = knn_model.kneighbors([vetor_caracteristicas[produto_index]])\n",
    "    \n",
    "    # Extraindo os produtos similares (excluindo o próprio produto)\n",
    "    produtos_similares = [produtos_categoria[i] for i in indices.flatten()[1:]]\n",
    "    \n",
    "    return produtos_similares\n"
   ]
  },
  {
   "cell_type": "markdown",
   "metadata": {},
   "source": [
    "### Interface Gráfica"
   ]
  },
  {
   "cell_type": "code",
   "execution_count": 10,
   "metadata": {},
   "outputs": [],
   "source": [
    "# Criando a interface gráfica\n",
    "def recomendar_produto():\n",
    "    produto_comprado = entry_produto.get()\n",
    "    produtos_recomendados = encontrar_produto_similar(produto_comprado)\n",
    "    label_resultado.config(text=f\"Produtos similares ao '{produto_comprado}': {', '.join(produtos_recomendados)}\")\n",
    "\n",
    "# Configurações da janela\n",
    "root = tk.Tk()\n",
    "root.title(\"Sistema de Recomendação de Produtos Eletrônicos\")\n",
    "root.geometry(\"400x200\")\n",
    "\n",
    "# Elementos da interface\n",
    "label_produto = tk.Label(root, text=\"Produto Comprado:\")\n",
    "label_produto.pack(pady=5)\n",
    "\n",
    "entry_produto = tk.Entry(root, width=30)\n",
    "entry_produto.pack(pady=5)\n",
    "\n",
    "button_recomendar = tk.Button(root, text=\"Recomendar\", command=recomendar_produto)\n",
    "button_recomendar.pack(pady=5)\n",
    "\n",
    "label_resultado = tk.Label(root, text=\"\")\n",
    "label_resultado.pack(pady=5)\n",
    "\n",
    "# Rodar a interface\n",
    "root.mainloop()\n"
   ]
  },
  {
   "cell_type": "code",
   "execution_count": null,
   "metadata": {},
   "outputs": [],
   "source": []
  },
  {
   "cell_type": "markdown",
   "metadata": {},
   "source": [
    "### Código completo"
   ]
  },
  {
   "cell_type": "code",
   "execution_count": null,
   "metadata": {},
   "outputs": [],
   "source": [
    "import pandas as pd\n",
    "import tkinter as tk\n",
    "from sklearn.neighbors import NearestNeighbors\n",
    "import numpy as np\n",
    "\n",
    "# Criando a nova base de dados fictícia com produtos eletrônicos e características adicionais\n",
    "data = {\n",
    "    'Produto': ['Smartphone', 'Notebook', 'Smartwatch', 'Tablet', 'Fones de Ouvido', 'Câmera', 'Carregador Portátil', 'Mouse', 'Teclado',\n",
    "                'Monitor', 'Impressora', 'Roteador', 'Caixa de Som', 'Headset', 'Webcam'],\n",
    "    'Categoria': ['Celulares', 'Computadores', 'Acessórios', 'Tablets', 'Acessórios', 'Câmeras', 'Acessórios', 'Acessórios', 'Acessórios',\n",
    "                  'Monitores', 'Impressoras', 'Redes', 'Acessórios', 'Acessórios', 'Câmeras'],\n",
    "    'Marca': ['Samsung', 'Dell', 'Apple', 'Samsung', 'Sony', 'Canon', 'Xiaomi', 'Logitech', 'Logitech',\n",
    "              'LG', 'HP', 'TP-Link', 'JBL', 'Sony', 'Logitech'],\n",
    "    'Preço': [1500, 3000, 400, 800, 100, 1200, 50, 20, 15, 500, 200, 80, 150, 50, 100],\n",
    "    'Avaliação': [4.5, 4.8, 4.0, 4.2, 4.6, 4.7, 4.1, 4.3, 4.4, 4.5, 4.2, 4.6, 4.8, 4.3, 4.0]\n",
    "}\n",
    "\n",
    "df = pd.DataFrame(data)\n",
    "\n",
    "# Função para normalizar os dados numéricos\n",
    "def normalizar(x):\n",
    "    return (x - np.min(x)) / (np.max(x) - np.min(x))\n",
    "\n",
    "# Aplicar a normalização aos dados\n",
    "df[['Preço', 'Avaliação']] = df[['Preço', 'Avaliação']].apply(normalizar)\n",
    "\n",
    "# Função para encontrar um produto mais similar, considerando múltiplas características\n",
    "def encontrar_produto_similar(produto):\n",
    "    # Obtendo a categoria do produto\n",
    "    categoria_produto = df.loc[df['Produto'] == produto, 'Categoria'].values[0]\n",
    "    \n",
    "    # Filtrando a base de dados para conter todos os produtos\n",
    "    produtos_categoria = df['Produto'].unique()\n",
    "    \n",
    "    # Obtendo os vetores de características dos produtos\n",
    "    vetor_caracteristicas = pd.get_dummies(df[['Produto', 'Categoria']])\n",
    "    vetor_caracteristicas['Preço'] = df['Preço']\n",
    "    vetor_caracteristicas['Avaliação'] = df['Avaliação']\n",
    "    \n",
    "    # Ponderando as características\n",
    "    vetor_caracteristicas['Categoria_' + categoria_produto] *= 2  # Duplica o peso da categoria do produto\n",
    "    \n",
    "    vetor_caracteristicas = vetor_caracteristicas.values\n",
    "    \n",
    "    # Treinando o modelo KNN\n",
    "    knn_model = NearestNeighbors(n_neighbors=3, algorithm='brute', metric='manhattan')\n",
    "    knn_model.fit(vetor_caracteristicas)\n",
    "    \n",
    "    # Encontrando os vizinhos mais próximos\n",
    "    produto_index = list(produtos_categoria).index(produto)\n",
    "    _, indices = knn_model.kneighbors([vetor_caracteristicas[produto_index]])\n",
    "    \n",
    "    # Extraindo os produtos similares (excluindo o próprio produto)\n",
    "    produtos_similares = [produtos_categoria[i] for i in indices.flatten()[1:]]\n",
    "    \n",
    "    return produtos_similares\n",
    "\n",
    "# Criando a interface gráfica\n",
    "def recomendar_produto():\n",
    "    produto_comprado = entry_produto.get()\n",
    "    produtos_recomendados = encontrar_produto_similar(produto_comprado)\n",
    "    label_resultado.config(text=f\"Produtos similares ao '{produto_comprado}': {', '.join(produtos_recomendados)}\")\n",
    "\n",
    "# Configurações da janela\n",
    "root = tk.Tk()\n",
    "root.title(\"Sistema de Recomendação de Produtos Eletrônicos\")\n",
    "root.geometry(\"400x200\")\n",
    "\n",
    "# Elementos da interface\n",
    "label_produto = tk.Label(root, text=\"Produto Comprado:\")\n",
    "label_produto.pack(pady=5)\n",
    "\n",
    "entry_produto = tk.Entry(root, width=30)\n",
    "entry_produto.pack(pady=5)\n",
    "\n",
    "button_recomendar = tk.Button(root, text=\"Recomendar\", command=recomendar_produto)\n",
    "button_recomendar.pack(pady=5)\n",
    "\n",
    "label_resultado = tk.Label(root, text=\"\")\n",
    "label_resultado.pack(pady=5)\n",
    "\n",
    "# Rodar a interface\n",
    "root.mainloop()\n"
   ]
  }
 ],
 "metadata": {
  "kernelspec": {
   "display_name": "base",
   "language": "python",
   "name": "python3"
  },
  "language_info": {
   "codemirror_mode": {
    "name": "ipython",
    "version": 3
   },
   "file_extension": ".py",
   "mimetype": "text/x-python",
   "name": "python",
   "nbconvert_exporter": "python",
   "pygments_lexer": "ipython3",
   "version": "3.11.5"
  }
 },
 "nbformat": 4,
 "nbformat_minor": 2
}
